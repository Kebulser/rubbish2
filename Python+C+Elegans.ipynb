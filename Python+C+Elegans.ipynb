{
 "cells": [
  {
   "cell_type": "markdown",
   "metadata": {},
   "source": [
    "# This is my first headline!\n",
    "### Hello, headline world. My head is spinning.\n",
    "### ...\n",
    "### But first we'll need to declare some functions.\n"
   ]
  },
  {
   "cell_type": "code",
   "execution_count": 3,
   "metadata": {
    "collapsed": false
   },
   "outputs": [],
   "source": [
    "def readFeature(rawFeature, verbose=False) :\n",
    "    if rawFeature[0:2] == \"#!\" or rawFeature == \"\" :\n",
    "        return None\n",
    "        pass\n",
    "    rawFeature = rawFeature.split(\"\\t\")\n",
    "    rawFeature[-1] = rawFeature[-1].strip(\";\\n\")\n",
    "    rawAttributes = rawFeature[-1].split(\"; \")\n",
    "    baseTypes = [\"scaffold\", \"type\", \"start\", \"end\", \"strand\"]\n",
    "    feature = {\n",
    "                \"scaffold\":rawFeature[0], \n",
    "                \"type\":rawFeature[2],\n",
    "                \"start\":rawFeature[3],\n",
    "                \"end\":rawFeature[4],\n",
    "                \"strand\":rawFeature[6],\n",
    "                }\n",
    "    for attribute in rawAttributes :\n",
    "        attribute = attribute.split(\" \\\"\")\n",
    "        attribute[1] = attribute[1].strip(\"\\\"\")\n",
    "        feature[attribute[0]]=attribute[1]\n",
    "    return feature\n",
    "    pass"
   ]
  },
  {
   "cell_type": "code",
   "execution_count": 4,
   "metadata": {
    "collapsed": true
   },
   "outputs": [],
   "source": [
    "def indexNewlines(genome, verbose=False) :\n",
    "    #Creates a list of newlines, used as quick pos reference.\n",
    "    line = \".\"\n",
    "    index = [1]\n",
    "    genome.seek(0, 0)\n",
    "    while line != \"\" :\n",
    "        line = genome.readline()\n",
    "        pos = genome.tell()\n",
    "        index.append(pos)\n",
    "        if verbose==True :\n",
    "            print(line[0:15])\n",
    "    print(\"Index Done!\")\n",
    "    return index\n",
    "    pass"
   ]
  },
  {
   "cell_type": "code",
   "execution_count": 5,
   "metadata": {
    "collapsed": true
   },
   "outputs": [],
   "source": [
    "genome = open(\"C:\\\\Users\\\\Me\\\\Desktop\\\\pasta\\\\pasta\\\\toys\\\\celegans_genome.txt\")"
   ]
  },
  {
   "cell_type": "code",
   "execution_count": 6,
   "metadata": {
    "collapsed": false
   },
   "outputs": [
    {
     "name": "stdout",
     "output_type": "stream",
     "text": [
      "Index Done!\n"
     ]
    }
   ],
   "source": [
    "index = indexNewlines(genome)"
   ]
  },
  {
   "cell_type": "markdown",
   "metadata": {},
   "source": [
    "# *Caenorhabditis Elegans* genome\n",
    "- Model oranism\n",
    "- Fixed cell count\n",
    "- Two genders (male and hermaphrodite)\n",
    "- Can be found absolutely everywhere\n",
    "- [Including space](http://news.bbc.co.uk/2/hi/science/nature/2992123.stm)\n",
    "\n"
   ]
  },
  {
   "cell_type": "markdown",
   "metadata": {},
   "source": [
    "- Genome data sourced from wormbase.org - the only reason you will ever need to get into nematode biology."
   ]
  },
  {
   "cell_type": "markdown",
   "metadata": {},
   "source": [
    "### As far as their genome is concerned :"
   ]
  },
  {
   "cell_type": "code",
   "execution_count": 36,
   "metadata": {
    "collapsed": false
   },
   "outputs": [
    {
     "name": "stdout",
     "output_type": "stream",
     "text": [
      "Scaffolds : V, X, IV, II, I, III, MtDNA, \n"
     ]
    }
   ],
   "source": [
    "scaffolds = \"Scaffolds : \"\n",
    "lastScaffold = \"\"\n",
    "genome.seek(0,0)\n",
    "for line in genome :\n",
    "    line = readFeature(line)\n",
    "    if line :\n",
    "        if lastScaffold != line[\"scaffold\"] :\n",
    "            scaffolds = scaffolds + line[\"scaffold\"] + \", \"\n",
    "        lastScaffold = line[\"scaffold\"]\n",
    "\n",
    "print(scaffolds)"
   ]
  },
  {
   "cell_type": "markdown",
   "metadata": {},
   "source": [
    "There are a total of 7 scaffolds :\n",
    "I, II, III, IV, V (regular chromosomes) + X(/Y) (sex chromosome) + the mitochondrial genome"
   ]
  },
  {
   "cell_type": "code",
   "execution_count": 29,
   "metadata": {
    "collapsed": false
   },
   "outputs": [
    {
     "name": "stdout",
     "output_type": "stream",
     "text": [
      "Genes : 46739    Transcripts : 58941    Exons : 251447\n"
     ]
    }
   ],
   "source": [
    "genes = 0\n",
    "transcripts = 0\n",
    "exons = 0\n",
    "genome.seek(0)\n",
    "for feature in genome :\n",
    "    feature = readFeature(feature)\n",
    "    if feature :\n",
    "        if feature[\"type\"] == \"gene\" :\n",
    "            genes = genes+1\n",
    "        if feature[\"type\"] == \"transcript\" :\n",
    "            transcripts = transcripts + 1\n",
    "        if feature[\"type\"] == \"exon\" :\n",
    "            exons = exons+1\n",
    "print(\"Genes : \" + str(genes) + \"    Transcripts : \" + str(transcripts) + \"    Exons : \" + str(exons))"
   ]
  },
  {
   "cell_type": "markdown",
   "metadata": {},
   "source": [
    "It seems the *C. elegans* genome contains 46739 genes, 58941 transcripts and 251447 exons, however ..."
   ]
  },
  {
   "cell_type": "code",
   "execution_count": 42,
   "metadata": {
    "collapsed": false
   },
   "outputs": [
    {
     "name": "stdout",
     "output_type": "stream",
     "text": [
      "Counted exons : 251447\n",
      "Unique exons : 175281\n"
     ]
    }
   ],
   "source": [
    "exonBox = []\n",
    "genome.seek(0)\n",
    "for feature in genome :\n",
    "    feature = readFeature(feature)\n",
    "    if feature :\n",
    "        if feature[\"type\"] == \"exon\" :\n",
    "            exonBox.append(feature[\"exon_id\"])\n",
    "            \n",
    "print(\"Counted exons : \" + str(len(exonBox)))\n",
    "print(\"Unique exons : \" + str(len(set(exonBox))))"
   ]
  },
  {
   "cell_type": "markdown",
   "metadata": {},
   "source": [
    "Exons repeat themselves accross transcripts, so there are only 175281 actual exon *sequences*."
   ]
  },
  {
   "cell_type": "markdown",
   "metadata": {},
   "source": [
    "Additionally, C. Elegans actually has polycistrionic genes.\n",
    "\n",
    "\n",
    ">The nematode worm Caenorhabditis elegans and its relatives are unique among animals in having operons. Operons are regulated multigene transcription units, in which polycistronic pre-messenger RNA (pre-mRNA coding for multiple peptides) is processed to monocistronic mRNAs.\n",
    ">\n",
    ">(...)\n",
    ">\n",
    "> Our evidence indicates that the genome contains at least 1,000 operons, 2 8 genes long, that contain about 15% of all C. elegans genes. Numerous examples of co-transcription of genes encoding functionally related proteins are evident.\n",
    ">\n",
    ">*Blumenthal, T (2004). \"Operons in eukaryotes\". Briefings in Functional Genomics and Proteomics. 3 (3): 199–211. doi:10.1093/bfgp/3.3.199. PMID 15642184.*\n"
   ]
  },
  {
   "cell_type": "code",
   "execution_count": 8,
   "metadata": {
    "collapsed": false
   },
   "outputs": [
    {
     "name": "stdout",
     "output_type": "stream",
     "text": [
      "Unique Genes : 46739    unique biotypes : 11\n",
      "{'lincRNA', 'tRNA', 'snRNA', 'ncRNA', 'pseudogene', 'snoRNA', 'miRNA', 'piRNA', 'protein_coding', 'rRNA', 'antisense'}\n"
     ]
    }
   ],
   "source": [
    "uniqueGenes = set([])\n",
    "uniqueBiotypes = set([])\n",
    "genome.seek(0)\n",
    "for line in genome :\n",
    "    line = readFeature(line)\n",
    "    if line :\n",
    "        if line[\"type\"] == \"gene\" :\n",
    "            uniqueGenes.add(line[\"gene_id\"])\n",
    "            uniqueBiotypes.add(line[\"gene_biotype\"])\n",
    "print(\"Unique Genes : \" + str(len(uniqueGenes)) + \"    unique biotypes : \" + str(len(uniqueBiotypes)))\n",
    "print(uniqueBiotypes)\n",
    "            "
   ]
  },
  {
   "cell_type": "code",
   "execution_count": 86,
   "metadata": {
    "collapsed": false
   },
   "outputs": [
    {
     "name": "stdout",
     "output_type": "stream",
     "text": [
      "Protein Coding Genes : 20362    ncRNA Genes : 7698    Pseudogenes : 1658\n"
     ]
    }
   ],
   "source": [
    "proteinGenes = 0\n",
    "RNAGenes = 0\n",
    "pseudogenes = 0\n",
    "genome.seek(0)\n",
    "for feature in genome :\n",
    "    feature = readFeature(feature)\n",
    "    if feature :\n",
    "        if feature[\"type\"] == \"gene\" :\n",
    "            if feature[\"gene_biotype\"] == \"protein_coding\" :\n",
    "                proteinGenes = proteinGenes+1\n",
    "            if feature[\"gene_biotype\"] == \"ncRNA\" :\n",
    "                RNAGenes = RNAGenes+1\n",
    "            if feature[\"gene_biotype\"] == \"pseudogene\" :\n",
    "                pseudogenes = pseudogenes+1\n",
    "\n",
    "print(\"Protein Coding Genes : \" + str(proteinGenes) + \"    ncRNA Genes : \" + str(RNAGenes) + \"    Pseudogenes : \"+str(pseudogenes))"
   ]
  },
  {
   "cell_type": "code",
   "execution_count": 29,
   "metadata": {
    "collapsed": false
   },
   "outputs": [
    {
     "name": "stdout",
     "output_type": "stream",
     "text": [
      "lincRNA  : 169\n",
      "tRNA  : 634\n",
      "snRNA  : 130\n",
      "ncRNA  : 7698\n",
      "pseudogene  : 1658\n",
      "snoRNA  : 345\n",
      "miRNA  : 256\n",
      "piRNA  : 15365\n",
      "protein_coding  : 20362\n",
      "rRNA  : 22\n",
      "antisense  : 100\n",
      "total : 46739\n"
     ]
    }
   ],
   "source": [
    "biotypeSurvey = {}\n",
    "genome.seek(0)\n",
    "for i in list(uniqueBiotypes) :\n",
    "    biotypeSurvey[i] = 0\n",
    "\n",
    "for feature in genome :\n",
    "    feature = readFeature(feature)\n",
    "    if feature :\n",
    "        if feature[\"type\"] == \"gene\" :\n",
    "            biotypeSurvey[feature[\"gene_biotype\"]] = biotypeSurvey[feature[\"gene_biotype\"]] + 1\n",
    "\n",
    "total = 0\n",
    "for i in list(uniqueBiotypes) :\n",
    "    print(i + \"  : \" +str(biotypeSurvey[i]))\n",
    "    total = total + biotypeSurvey[i]\n",
    "print(\"total : \" + str(total))"
   ]
  },
  {
   "cell_type": "markdown",
   "metadata": {},
   "source": [
    "- Only 20362 genes of the total 46739 code proteins\n",
    "- Then we have 15365 genes classified as piRNA, which seem to function as silencers ( [Nature Article](http://www.nature.com/nrm/journal/v12/n4/full/nrm3089.html) )\n",
    "- 7698 genes code general ncRNA"
   ]
  },
  {
   "cell_type": "markdown",
   "metadata": {},
   "source": [
    "Next we'll want to figure out how many exons there are per gene, on average :"
   ]
  },
  {
   "cell_type": "code",
   "execution_count": 73,
   "metadata": {
    "collapsed": false
   },
   "outputs": [
    {
     "name": "stdout",
     "output_type": "stream",
     "text": [
      "[0, 25234, 2356, 2928, 2739, 2542, 2144, 1820, 1442, 1079, 870, 665, 505, 446, 353, 273, 239, 202, 159, 115, 85, 83, 69, 60, 50, 32, 28, 35, 18, 23, 20, 12, 11, 8, 9, 12, 6, 5, 6, 5, 7, 8, 4, 6, 3, 1, 2, 3, 3, 0, 0, 0, 3, 1, 0, 0, 2, 0, 2, 2, 0, 0, 0, 0, 0, 1, 0, 0, 0, 0, 0, 0, 0, 0, 0, 1, 0, 0, 0, 0, 0, 0, 0, 0, 0, 0, 0, 0, 0, 0, 0, 0, 0, 0, 0, 0, 0, 0, 0, 0, 1, 0, 0, 0, 0, 0, 0, 0, 0, 0, 0, 0, 0, 1, 0, 0, 0, 0, 0, 0, 0, 0, 0, 0, 0, 0, 0, 0, 0, 0, 0, 0, 0, 0, 0, 0, 0, 0, 0, 0, 0, 0, 0, 0, 0, 0, 0, 0, 0, 0, 0, 0, 0, 0, 0, 0, 0, 0, 0, 0, 0, 0, 0, 0, 0, 0, 0, 0, 0, 0, 0, 0, 0, 0, 0, 0, 0, 0, 0, 0, 0, 0, 0, 0, 0, 0, 0, 0, 0, 0, 0, 0, 0, 0, 0, 0, 0, 0, 0, 0]\n",
      "\n",
      "Total Exons : 175281\n",
      "Total Genes : 46739\n"
     ]
    }
   ],
   "source": [
    "geneExons = {}\n",
    "genome.seek(0)\n",
    "for feature in genome :\n",
    "    feature = readFeature(feature)\n",
    "    if feature :\n",
    "        if feature[\"type\"] == \"exon\" :\n",
    "            #Make sure the subcontainer exists\n",
    "            if feature[\"gene_id\"] not in geneExons :\n",
    "                geneExons[feature[\"gene_id\"]] = set()\n",
    "            geneExons[feature[\"gene_id\"]].add(feature[\"exon_id\"])\n",
    "            \n",
    "#Sanity check :\n",
    "sanityExons = 0\n",
    "for item in geneExons.values() :\n",
    "    sanityExons = sanityExons + len(item)\n",
    "\n",
    "#Homogenize the data :\n",
    "rawGeneExons = []\n",
    "for i in range(200) :\n",
    "    rawGeneExons.append(0)\n",
    "\n",
    "for exonList in geneExons.values() :\n",
    "    rawGeneExons[len(exonList)] = rawGeneExons[len(exonList)] + 1\n",
    "    \n",
    "print(rawGeneExons)\n",
    "print(\"\")\n",
    "print(\"Total Exons : \" + str(sanityExons))\n",
    "print(\"Total Genes : \" + str(sum(rawGeneExons)))\n",
    "\n",
    "# This gives us a matrix where the index number is the amount of exons in a gene,\n",
    "# and the values correspond to the amount of genes which fit that description."
   ]
  },
  {
   "cell_type": "markdown",
   "metadata": {},
   "source": [
    "To put that in human-readable form :"
   ]
  },
  {
   "cell_type": "code",
   "execution_count": 83,
   "metadata": {
    "collapsed": false,
    "scrolled": true
   },
   "outputs": [
    {
     "data": {
      "image/png": "[encoded data removed]",
      "text/plain": [
       "<matplotlib.figure.Figure at 0xd993208>"
      ]
     },
     "metadata": {},
     "output_type": "display_data"
    }
   ],
   "source": [
    "import matplotlib.pyplot as plt\n",
    "plt.plot(rawGeneExons[0:200])\n",
    "plt.axis([1, 20, 0, 26000])\n",
    "plt.ylabel(\"Genes\")\n",
    "plt.xlabel(\"Exon count\")\n",
    "plt.show()"
   ]
  },
  {
   "cell_type": "markdown",
   "metadata": {},
   "source": [
    "Or if you'd like the entire graph :"
   ]
  },
  {
   "cell_type": "code",
   "execution_count": 91,
   "metadata": {
    "collapsed": false,
    "scrolled": false
   },
   "outputs": [
    {
     "data": {
      "image/png": "[encoded data removed]",
      "text/plain": [
       "<matplotlib.figure.Figure at 0xc614c88>"
      ]
     },
     "metadata": {},
     "output_type": "display_data"
    }
   ],
   "source": [
    "import matplotlib.pyplot as plt\n",
    "plt.plot(rawGeneExons)\n",
    "plt.axis([1, 115, 0, 26000])\n",
    "plt.ylabel(\"Genes\")\n",
    "plt.xlabel(\"Exon count\")\n",
    "plt.show()"
   ]
  },
  {
   "cell_type": "code",
   "execution_count": 94,
   "metadata": {
    "collapsed": false
   },
   "outputs": [
    {
     "name": "stdout",
     "output_type": "stream",
     "text": [
      "113\n",
      "Biggest gene : WBGene00016006 aka fln-2\n",
      "Biggest gene : WBGene00016006 aka fln-2\n",
      "Biggest gene : WBGene00016006 aka fln-2\n",
      "Biggest gene : WBGene00016006 aka fln-2\n",
      "Biggest gene : WBGene00016006 aka fln-2\n",
      "Biggest gene : WBGene00016006 aka fln-2\n",
      "Biggest gene : WBGene00016006 aka fln-2\n",
      "Biggest gene : WBGene00016006 aka fln-2\n",
      "Biggest gene : WBGene00016006 aka fln-2\n",
      "Biggest gene : WBGene00016006 aka fln-2\n",
      "Biggest gene : WBGene00016006 aka fln-2\n",
      "Biggest gene : WBGene00016006 aka fln-2\n",
      "Biggest gene : WBGene00016006 aka fln-2\n",
      "Biggest gene : WBGene00016006 aka fln-2\n",
      "Biggest gene : WBGene00016006 aka fln-2\n",
      "Biggest gene : WBGene00016006 aka fln-2\n",
      "Biggest gene : WBGene00016006 aka fln-2\n",
      "Biggest gene : WBGene00016006 aka fln-2\n",
      "Biggest gene : WBGene00016006 aka fln-2\n",
      "Biggest gene : WBGene00016006 aka fln-2\n",
      "Biggest gene : WBGene00016006 aka fln-2\n",
      "Biggest gene : WBGene00016006 aka fln-2\n",
      "Biggest gene : WBGene00016006 aka fln-2\n",
      "Biggest gene : WBGene00016006 aka fln-2\n",
      "Biggest gene : WBGene00016006 aka fln-2\n",
      "Biggest gene : WBGene00016006 aka fln-2\n",
      "Biggest gene : WBGene00016006 aka fln-2\n",
      "Biggest gene : WBGene00016006 aka fln-2\n",
      "Biggest gene : WBGene00016006 aka fln-2\n",
      "Biggest gene : WBGene00016006 aka fln-2\n",
      "Biggest gene : WBGene00016006 aka fln-2\n",
      "Biggest gene : WBGene00016006 aka fln-2\n",
      "Biggest gene : WBGene00016006 aka fln-2\n",
      "Biggest gene : WBGene00016006 aka fln-2\n",
      "Biggest gene : WBGene00016006 aka fln-2\n",
      "Biggest gene : WBGene00016006 aka fln-2\n",
      "Biggest gene : WBGene00016006 aka fln-2\n",
      "Biggest gene : WBGene00016006 aka fln-2\n",
      "Biggest gene : WBGene00016006 aka fln-2\n",
      "Biggest gene : WBGene00016006 aka fln-2\n"
     ]
    }
   ],
   "source": [
    "biggestGene = 0\n",
    "for exonList in geneExons.values() :\n",
    "    if len(exonList) > biggestGene :\n",
    "        biggestGene = len(exonList)\n",
    "print(biggestGene)\n",
    "\n",
    "geneExons = {}\n",
    "genome.seek(0)\n",
    "for feature in genome :\n",
    "    feature = readFeature(feature)\n",
    "    if feature :\n",
    "        if feature[\"type\"] == \"exon\" :\n",
    "            #Make sure the subcontainer exists\n",
    "            if feature[\"gene_id\"] not in geneExons :\n",
    "                geneExons[feature[\"gene_id\"]] = set()\n",
    "            geneExons[feature[\"gene_id\"]].add(feature[\"exon_id\"])\n",
    "            if len(geneExons[feature[\"gene_id\"]]) == biggestGene :\n",
    "                print(\"Biggest gene : \" + feature[\"gene_id\"] + \" aka \" + feature[\"gene_name\"])"
   ]
  },
  {
   "cell_type": "markdown",
   "metadata": {},
   "source": [
    "###### The gene with *the* most exons in C. elegans' genome is fln-2 with 113 exons.\n",
    "\n",
    ">fln-2 is an ortholog of human Ehbp1 (EH domain binding protein 1); fln-2 is involved in locomotion and the molting cycle; fln-2 is expressed in the pharynx, anal depressor muscle, hypodermis, intestine, vulva, and the DTC. \n",
    ">\n",
    ">(wormbase.org)"
   ]
  },
  {
   "cell_type": "markdown",
   "metadata": {},
   "source": [
    " "
   ]
  },
  {
   "cell_type": "markdown",
   "metadata": {},
   "source": [
    " "
   ]
  },
  {
   "cell_type": "markdown",
   "metadata": {},
   "source": [
    "#### The End\n"
   ]
  }
 ],
 "metadata": {
  "anaconda-cloud": {},
  "kernelspec": {
   "display_name": "Python [default]",
   "language": "python",
   "name": "python3"
  },
  "language_info": {
   "codemirror_mode": {
    "name": "ipython",
    "version": 3
   },
   "file_extension": ".py",
   "mimetype": "text/x-python",
   "name": "python",
   "nbconvert_exporter": "python",
   "pygments_lexer": "ipython3",
   "version": "3.5.2"
  }
 },
 "nbformat": 4,
 "nbformat_minor": 1
}
